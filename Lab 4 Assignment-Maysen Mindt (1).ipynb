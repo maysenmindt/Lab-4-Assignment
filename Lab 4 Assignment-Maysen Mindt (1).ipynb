{
 "cells": [
  {
   "cell_type": "code",
   "execution_count": 14,
   "id": "484b157f",
   "metadata": {},
   "outputs": [],
   "source": [
    "import numpy as np\n",
    "def rule1(dA,c):\n",
    "    dQ1=(dA*c)\n",
    "    return dQ1"
   ]
  },
  {
   "cell_type": "code",
   "execution_count": 15,
   "id": "905d9791",
   "metadata": {},
   "outputs": [],
   "source": [
    "def rule2(dA,A,m,c):\n",
    "    dQ2=c*m*dA*A**(m-1)\n",
    "    return dQ2"
   ]
  },
  {
   "cell_type": "code",
   "execution_count": 16,
   "id": "929e9611",
   "metadata": {},
   "outputs": [],
   "source": [
    "def rule3(dA,dB):\n",
    "    dQ3=(np.sqrt(dA**2+dB**2))\n",
    "    return dQ3"
   ]
  },
  {
   "cell_type": "code",
   "execution_count": 17,
   "id": "99d340f8",
   "metadata": {},
   "outputs": [],
   "source": [
    "def rule4(m,n,dA,A,dB,B,Q):\n",
    "    dQ4=Q*np.sqrt(((m*dA)/A)**2+((n*dB)/B)**2)\n",
    "    return dQ4"
   ]
  },
  {
   "cell_type": "code",
   "execution_count": 28,
   "id": "7a9f0133",
   "metadata": {},
   "outputs": [
    {
     "name": "stdout",
     "output_type": "stream",
     "text": [
      "dQ =  0.008907257597900108\n"
     ]
    }
   ],
   "source": [
    "#Calculation for Method 2\n",
    "def rule4(Q,m,dA,A,n,dB,B):\n",
    "    dQ4=Q*np.sqrt((((m*dA)/A)**2)+(((n*dB)/B)**2))\n",
    "    return dQ4\n",
    "Q=3.54\n",
    "m=1\n",
    "n=1\n",
    "dA=0.004\n",
    "A=1.591\n",
    "dB=0.0001\n",
    "B=0.989\n",
    "dQ4=rule4(Q,m,dA,A,n,dB,B)\n",
    "print(\"dQ = \",dQ4)"
   ]
  },
  {
   "cell_type": "markdown",
   "id": "b2d49748",
   "metadata": {},
   "source": [
    "The uncertainty for method 2 in the lab was 0.009 m/s and the uncertainty for method 2 here was 0.009 m/s. These two computations are equivalent. The only difference is one was calculated by hand and the other was calculated by programming. "
   ]
  },
  {
   "cell_type": "code",
   "execution_count": 29,
   "id": "02823277",
   "metadata": {},
   "outputs": [
    {
     "name": "stdout",
     "output_type": "stream",
     "text": [
      "Average = 1.1166666666666667\n",
      "Standard Deviation = 0.17950549357115014\n",
      "Error in x = 0.073282810879294\n"
     ]
    }
   ],
   "source": [
    "x=np.array([1.1,1.3,1.4,0.9,0.95,1.05])\n",
    "xaverage=np.average(x)\n",
    "xstd=np.std(x)\n",
    "xerror=np.std(x)/np.sqrt(6)\n",
    "print(\"Average =\",xaverage)\n",
    "print(\"Standard Deviation =\",xstd)\n",
    "print(\"Error in x =\", xerror)"
   ]
  },
  {
   "cell_type": "markdown",
   "id": "cafaa6a5",
   "metadata": {},
   "source": [
    "The average of the data set was found to be 1.12.\n",
    "The standard deviation of the data set was found to be 0.180.\n",
    "The error in the mean was found to be 0.0733."
   ]
  },
  {
   "cell_type": "markdown",
   "id": "2389771c",
   "metadata": {},
   "source": [
    "Rule 3:\n",
    "$\\delta Q= \\sqrt{(\\delta A)^2 +(\\delta B)^2}$\n"
   ]
  },
  {
   "cell_type": "markdown",
   "id": "8fdd515b",
   "metadata": {},
   "source": [
    "$\\delta vi= vi*\\sqrt{(\\frac{\\delta x}{x})^2 +(\\frac{\\delta h}{h})^2}$"
   ]
  },
  {
   "cell_type": "code",
   "execution_count": null,
   "id": "cbbc46c8",
   "metadata": {},
   "outputs": [],
   "source": []
  }
 ],
 "metadata": {
  "kernelspec": {
   "display_name": "Python 3 (ipykernel)",
   "language": "python",
   "name": "python3"
  },
  "language_info": {
   "codemirror_mode": {
    "name": "ipython",
    "version": 3
   },
   "file_extension": ".py",
   "mimetype": "text/x-python",
   "name": "python",
   "nbconvert_exporter": "python",
   "pygments_lexer": "ipython3",
   "version": "3.9.12"
  }
 },
 "nbformat": 4,
 "nbformat_minor": 5
}
